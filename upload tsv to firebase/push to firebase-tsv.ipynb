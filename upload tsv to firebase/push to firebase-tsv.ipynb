{
 "cells": [
  {
   "cell_type": "markdown",
   "metadata": {
    "collapsed": true
   },
   "source": [
    "## Import Libraries"
   ]
  },
  {
   "cell_type": "code",
   "execution_count": 1,
   "metadata": {
    "collapsed": true
   },
   "outputs": [],
   "source": [
    "import requests\n",
    "from firebase import firebase"
   ]
  },
  {
   "cell_type": "markdown",
   "metadata": {
    "collapsed": true
   },
   "source": [
    "## Set up firebase object"
   ]
  },
  {
   "cell_type": "code",
   "execution_count": 3,
   "metadata": {
    "collapsed": true
   },
   "outputs": [],
   "source": [
    "firebase = firebase.FirebaseApplication('', None) # Enter firebase path as the first parameter"
   ]
  },
  {
   "cell_type": "markdown",
   "metadata": {},
   "source": [
    "## To get a field from firebase"
   ]
  },
  {
   "cell_type": "code",
   "execution_count": 26,
   "metadata": {},
   "outputs": [
    {
     "data": {
      "text/plain": [
       "{'hackathonType': 'Online',\n",
       " 'location': 'Online',\n",
       " 'name': 'Coding Competition - 1 ',\n",
       " 'startDate': '4/9/2018',\n",
       " 'uid': 1}"
      ]
     },
     "execution_count": 26,
     "metadata": {},
     "output_type": "execute_result"
    }
   ],
   "source": [
    "firebase.get('/hacks/1',None)"
   ]
  },
  {
   "cell_type": "markdown",
   "metadata": {},
   "source": [
    "## Adding something to firebase"
   ]
  },
  {
   "cell_type": "code",
   "execution_count": 13,
   "metadata": {},
   "outputs": [
    {
     "name": "stdout",
     "output_type": "stream",
     "text": [
      "{'college': 'MIT', 'name': 'Mohit'}\n",
      "{'college': 'Manipal', 'name': 'Anubhav'}\n"
     ]
    }
   ],
   "source": [
    "result = firebase.put('/Mohit',1,  {'name':'Mohit','college':'MIT'})\n",
    "print(result)\n",
    "result = firebase.put('/Mohit',2,  {'name':'Anubhav','college':'Manipal'})\n",
    "print(result)"
   ]
  },
  {
   "cell_type": "markdown",
   "metadata": {},
   "source": [
    "## for loop in python to read a tsv file"
   ]
  },
  {
   "cell_type": "code",
   "execution_count": 23,
   "metadata": {},
   "outputs": [
    {
     "name": "stdout",
     "output_type": "stream",
     "text": [
      "['Hackathon-1', 'Offline', 'Bangalore', '1/18/2018', '\\n']\n",
      "['Coding Competition - 1 ', 'Online', 'Online', '4/9/2018', '\\n']\n",
      "['Programming Challenge -101', 'Online', 'Online', '3/12/2018', '\\n']\n"
     ]
    }
   ],
   "source": [
    "g=open(\"newhacks.txt\",\"r\")\n",
    "for line in g:\n",
    "    print(line.split(\"\\t\"))"
   ]
  },
  {
   "cell_type": "markdown",
   "metadata": {},
   "source": [
    "## Loop over tsv-file and push to firebase"
   ]
  },
  {
   "cell_type": "code",
   "execution_count": 22,
   "metadata": {},
   "outputs": [
    {
     "name": "stdout",
     "output_type": "stream",
     "text": [
      "Hackathon-1\n",
      "Coding Competition - 1 \n",
      "Programming Challenge -101\n"
     ]
    }
   ],
   "source": [
    "val=0\n",
    "\n",
    "for line in open(\"newhacks.txt\"):\n",
    "    line=line.strip().split(\"\\t\")\n",
    "    title=line[0]\n",
    "    hType=line[1]\n",
    "    venue=line[2]\n",
    "    date=line[3]    \n",
    "\n",
    "    result = firebase.put('/hacks',str(val),  {'name':title,'hackathonType': hType,'location':venue ,'startDate':date, 'uid':val})\n",
    "    print(result[\"name\"])\n",
    "    \n",
    "    val+=1"
   ]
  },
  {
   "cell_type": "markdown",
   "metadata": {},
   "source": [
    "## To delete from firebase"
   ]
  },
  {
   "cell_type": "code",
   "execution_count": 21,
   "metadata": {},
   "outputs": [],
   "source": [
    "firebase.delete('/hacks',None)"
   ]
  },
  {
   "cell_type": "code",
   "execution_count": null,
   "metadata": {
    "collapsed": true
   },
   "outputs": [],
   "source": []
  }
 ],
 "metadata": {
  "kernelspec": {
   "display_name": "Python 3",
   "language": "python",
   "name": "python3"
  },
  "language_info": {
   "codemirror_mode": {
    "name": "ipython",
    "version": 3
   },
   "file_extension": ".py",
   "mimetype": "text/x-python",
   "name": "python",
   "nbconvert_exporter": "python",
   "pygments_lexer": "ipython3",
   "version": "3.6.3"
  }
 },
 "nbformat": 4,
 "nbformat_minor": 2
}
